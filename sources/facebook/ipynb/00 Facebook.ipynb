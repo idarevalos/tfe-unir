{
 "cells": [
  {
   "cell_type": "markdown",
   "metadata": {},
   "source": [
    "Facebook webScraper"
   ]
  },
  {
   "cell_type": "code",
   "execution_count": 75,
   "metadata": {},
   "outputs": [],
   "source": [
    "import requests\n",
    "from bs4 import BeautifulSoup\n",
    "\n",
    "class FaceBookBot():\n",
    "\n",
    "    def parse_html(self, request_url):\n",
    "        with requests.Session() as session:\n",
    "            parsed_html = session.get(request_url)\n",
    "            self.url_final = request_url\n",
    "        return parsed_html\n",
    "\n",
    "    def post_content(self):\n",
    "        REQUEST_URL = self.url_final\n",
    "        \n",
    "        soup = BeautifulSoup(self.parse_html(REQUEST_URL).content, \"html.parser\")\n",
    "        \n",
    "        content = soup.find(id='facebook')\n",
    "        cc = content.find_all('div')\n",
    "        it = []\n",
    "        for x in cc:\n",
    "            it.append(x.text)\n",
    "        \n",
    "        return it\n",
    "    \n",
    "        post_content = []\n",
    "        for lines in content:\n",
    "            post_content.append(lines.text)\n",
    "        \n",
    "        post_content = ' '.join(post_content)    \n",
    "        return post_content\n",
    "#     https://m.facebook.com/pg/dantegebel/about/?ref=page_internal&mt_nav=0\n",
    "\n"
   ]
  },
  {
   "cell_type": "code",
   "execution_count": 76,
   "metadata": {},
   "outputs": [
    {
     "name": "stdout",
     "output_type": "stream",
     "text": [
      "['Ir aSecciones de esta páginaAyuda sobre accesibilidadNoticeDebes iniciar sesión para continuar.Iniciar sesión en FacebookDebes iniciar sesión para continuar.Iniciar sesión¿Olvidaste tu cuenta?oCrear cuenta nuevaEspañolEnglish (US)Français (France)Português (Brasil)ItalianoDeutschالعربيةहिन्दी中文(简体)日本語RegistrarteIniciar sesiónMessengerFacebook Lite Watch PersonasPáginasCategorías de páginasLugaresJuegosUbicacionesMarketplaceFacebook PayGruposOculusPortalInstagramLocalRecaudaciones de fondosServiciosCentro de información de votaciónInformaciónCrear anuncioCrear páginaDesarrolladoresEmpleoPrivacidadCookiesOpciones de anunciosCondicionesAyudaConfiguraciónRegistro de actividad Facebook © 2020', 'Ir aSecciones de esta páginaAyuda sobre accesibilidad', 'Ir aSecciones de esta páginaAyuda sobre accesibilidad', 'Ir aSecciones de esta páginaAyuda sobre accesibilidad', 'Ir a', 'Secciones de esta páginaAyuda sobre accesibilidad', 'Secciones de esta páginaAyuda sobre accesibilidad', 'Secciones de esta página', '', 'Ayuda sobre accesibilidad', 'NoticeDebes iniciar sesión para continuar.Iniciar sesión en FacebookDebes iniciar sesión para continuar.Iniciar sesión¿Olvidaste tu cuenta?oCrear cuenta nuevaEspañolEnglish (US)Français (France)Português (Brasil)ItalianoDeutschالعربيةहिन्दी中文(简体)日本語RegistrarteIniciar sesiónMessengerFacebook Lite Watch PersonasPáginasCategorías de páginasLugaresJuegosUbicacionesMarketplaceFacebook PayGruposOculusPortalInstagramLocalRecaudaciones de fondosServiciosCentro de información de votaciónInformaciónCrear anuncioCrear páginaDesarrolladoresEmpleoPrivacidadCookiesOpciones de anunciosCondicionesAyudaConfiguraciónRegistro de actividad Facebook © 2020', 'NoticeDebes iniciar sesión para continuar.Iniciar sesión en FacebookDebes iniciar sesión para continuar.Iniciar sesión¿Olvidaste tu cuenta?oCrear cuenta nueva', 'NoticeDebes iniciar sesión para continuar.Iniciar sesión en FacebookDebes iniciar sesión para continuar.Iniciar sesión¿Olvidaste tu cuenta?oCrear cuenta nueva', '', 'NoticeDebes iniciar sesión para continuar.', 'NoticeDebes iniciar sesión para continuar.', 'Debes iniciar sesión para continuar.', 'Iniciar sesión en FacebookDebes iniciar sesión para continuar.Iniciar sesión¿Olvidaste tu cuenta?oCrear cuenta nueva', 'Iniciar sesión en Facebook', 'Iniciar sesión en Facebook', 'Debes iniciar sesión para continuar.Iniciar sesión¿Olvidaste tu cuenta?oCrear cuenta nueva', 'Debes iniciar sesión para continuar.', 'Iniciar sesión¿Olvidaste tu cuenta?oCrear cuenta nueva', '', '', 'Iniciar sesión', '¿Olvidaste tu cuenta?oCrear cuenta nueva', '¿Olvidaste tu cuenta?', 'o', 'Crear cuenta nueva', 'EspañolEnglish (US)Français (France)Português (Brasil)ItalianoDeutschالعربيةहिन्दी中文(简体)日本語RegistrarteIniciar sesiónMessengerFacebook Lite Watch PersonasPáginasCategorías de páginasLugaresJuegosUbicacionesMarketplaceFacebook PayGruposOculusPortalInstagramLocalRecaudaciones de fondosServiciosCentro de información de votaciónInformaciónCrear anuncioCrear páginaDesarrolladoresEmpleoPrivacidadCookiesOpciones de anunciosCondicionesAyudaConfiguraciónRegistro de actividad Facebook © 2020', 'EspañolEnglish (US)Français (France)Português (Brasil)ItalianoDeutschالعربيةहिन्दी中文(简体)日本語RegistrarteIniciar sesiónMessengerFacebook Lite Watch PersonasPáginasCategorías de páginasLugaresJuegosUbicacionesMarketplaceFacebook PayGruposOculusPortalInstagramLocalRecaudaciones de fondosServiciosCentro de información de votaciónInformaciónCrear anuncioCrear páginaDesarrolladoresEmpleoPrivacidadCookiesOpciones de anunciosCondicionesAyudaConfiguraciónRegistro de actividad Facebook © 2020', 'EspañolEnglish (US)Français (France)Português (Brasil)ItalianoDeutschالعربيةहिन्दी中文(简体)日本語RegistrarteIniciar sesiónMessengerFacebook Lite Watch PersonasPáginasCategorías de páginasLugaresJuegosUbicacionesMarketplaceFacebook PayGruposOculusPortalInstagramLocalRecaudaciones de fondosServiciosCentro de información de votaciónInformaciónCrear anuncioCrear páginaDesarrolladoresEmpleoPrivacidadCookiesOpciones de anunciosCondicionesAyudaConfiguraciónRegistro de actividad Facebook © 2020', '', 'RegistrarteIniciar sesiónMessengerFacebook Lite Watch PersonasPáginasCategorías de páginasLugaresJuegosUbicacionesMarketplaceFacebook PayGruposOculusPortalInstagramLocalRecaudaciones de fondosServiciosCentro de información de votaciónInformaciónCrear anuncioCrear páginaDesarrolladoresEmpleoPrivacidadCookiesOpciones de anunciosCondicionesAyudaConfiguraciónRegistro de actividad', ' Facebook © 2020', ' Facebook © 2020', '', '']\n"
     ]
    }
   ],
   "source": [
    "\n",
    "print(post)"
   ]
  }
 ],
 "metadata": {
  "kernelspec": {
   "display_name": "Python 3",
   "language": "python",
   "name": "python3"
  },
  "language_info": {
   "codemirror_mode": {
    "name": "ipython",
    "version": 3
   },
   "file_extension": ".py",
   "mimetype": "text/x-python",
   "name": "python",
   "nbconvert_exporter": "python",
   "pygments_lexer": "ipython3",
   "version": "3.8.3"
  }
 },
 "nbformat": 4,
 "nbformat_minor": 4
}
